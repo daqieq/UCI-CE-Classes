{
 "cells": [
  {
   "cell_type": "markdown",
   "metadata": {},
   "source": [
    "# Week 5 Assignment - Part 5.7"
   ]
  },
  {
   "cell_type": "markdown",
   "metadata": {},
   "source": [
    "Repeat 5.6 by using the dictionary approach: After getting the list from getArtListUserfile, you will create a Python dictionary that will look like the following: artdict = { artist1: 0, artist2: 0, artist3: 0, ..... artistn:0} where n is total number of artists (here zeros depict count initialized to 0s). Next you will read each (let us say ith artist) record in the file user_artist_data.txt and update the count for that particular artist by using code similar to the following:\n",
    "artdict[i] = artdict[i] + tms \n",
    "where tms is the number in the last column.\n",
    "\n",
    "On my Macbook Pro, this function takes less than a minute to execute."
   ]
  },
  {
   "cell_type": "code",
   "execution_count": 1,
   "metadata": {},
   "outputs": [],
   "source": [
    "import time\n",
    "\n",
    "# Generator function to read a file - avoids memory issues\n",
    "def read_file(filename,split_char=' '):\n",
    "    with open(filename,mode='r',encoding=\"utf-8\") as f:\n",
    "        while True:\n",
    "            try:\n",
    "                file_line = next(f)\n",
    "            except MemoryError as mem_error:\n",
    "                print(f\"Only {len(file_list)} records were read from '{filename}' due to memory constraints: {mem_error}\")\n",
    "            except StopIteration:\n",
    "                break\n",
    "            else:\n",
    "                yield file_line.strip().split(split_char)\n",
    "\n",
    "# Dictionaries are a better way to do this, and if we can loop once through the data even better\n",
    "def get_most_played_artist():\n",
    "    \n",
    "    most = ['', 0]\n",
    "    artists = {}\n",
    "    \n",
    "    for rec in read_file('user_artist_data.txt'):\n",
    "        if rec[1] in artists:\n",
    "            artists[rec[1]] += int(rec[2])\n",
    "        else:\n",
    "            artists[rec[1]] = int(rec[2])\n",
    "            \n",
    "        if artists[rec[1]] > most[1]:\n",
    "            most = [rec[1], artists[rec[1]]]\n",
    "#     print(f\"Count: {counter} Artist: '{str(artist)}' Played: {artist_played:,}\")\n",
    "    return most\n"
   ]
  },
  {
   "cell_type": "code",
   "execution_count": 2,
   "metadata": {},
   "outputs": [
    {
     "name": "stdout",
     "output_type": "stream",
     "text": [
      "Most played artist across all users was '979' with 2,502,130 plays.\n",
      "Time elapsed to find the most played artist: 27.849024 seconds\n"
     ]
    }
   ],
   "source": [
    "started = time.time()\n",
    "\n",
    "most_played = get_most_played_artist()\n",
    "\n",
    "elapsed = time.time() - started\n",
    "\n",
    "print(f\"Most played artist across all users was '{most_played[0]}' with {most_played[1]:,} plays.\")\n",
    "print(f\"Time elapsed to find the most played artist: {elapsed:06.6f} seconds\")"
   ]
  },
  {
   "cell_type": "markdown",
   "metadata": {},
   "source": [
    "#### My Results\n",
    "\n",
    "Artist '979' had over 2.5 millions total plays from all users.\n",
    "\n",
    "It took 28 seconds to find this result on my laptop with Intel i7 and 16GB RAM."
   ]
  },
  {
   "cell_type": "code",
   "execution_count": null,
   "metadata": {},
   "outputs": [],
   "source": []
  },
  {
   "cell_type": "code",
   "execution_count": null,
   "metadata": {},
   "outputs": [],
   "source": []
  },
  {
   "cell_type": "code",
   "execution_count": null,
   "metadata": {},
   "outputs": [],
   "source": []
  },
  {
   "cell_type": "code",
   "execution_count": null,
   "metadata": {},
   "outputs": [],
   "source": []
  }
 ],
 "metadata": {
  "kernelspec": {
   "display_name": "Python 3",
   "language": "python",
   "name": "python3"
  },
  "language_info": {
   "codemirror_mode": {
    "name": "ipython",
    "version": 3
   },
   "file_extension": ".py",
   "mimetype": "text/x-python",
   "name": "python",
   "nbconvert_exporter": "python",
   "pygments_lexer": "ipython3",
   "version": "3.6.5"
  }
 },
 "nbformat": 4,
 "nbformat_minor": 2
}
