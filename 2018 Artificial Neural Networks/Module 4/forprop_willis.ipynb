{
 "cells": [
  {
   "cell_type": "markdown",
   "metadata": {},
   "source": [
    "# Determine Cost Function for the Artificial Neural Network for Iris Train and Test"
   ]
  },
  {
   "cell_type": "markdown",
   "metadata": {},
   "source": [
    "## Define functions, read training file, and get cost function value"
   ]
  },
  {
   "cell_type": "code",
   "execution_count": 1,
   "metadata": {},
   "outputs": [
    {
     "name": "stdout",
     "output_type": "stream",
     "text": [
      "The cost function for the training dataset is: 1.328851528513772\n"
     ]
    }
   ],
   "source": [
    "# Import numpy\n",
    "import numpy as np\n",
    "\n",
    "# Unity/Identity activation function for layer 0\n",
    "def identity_activation(G0):\n",
    "    return G0\n",
    "\n",
    "# TanH activation function for layer 1\n",
    "def tanh_activation(G1):\n",
    "    return (np.exp(G1)-np.exp(-G1))/(np.exp(G1)+np.exp(-G1))\n",
    "\n",
    "# Sigmoid activation function for layer 2\n",
    "def sigmoid_activation(G2):\n",
    "    return 1/(1+np.exp(-G2))\n",
    "\n",
    "# Initialize Weights and Biases\n",
    "def initialize_weights_and_biases(n):\n",
    "    W0 = np.identity(n)\n",
    "    b0 = np.zeros((n,1))\n",
    "    \n",
    "    W1 = np.full((n,n),0.5)\n",
    "    b1 = np.full((n,1),0.5)\n",
    "    \n",
    "    W2 = np.full((1,n),0.5)\n",
    "    b2 = np.full((1,1),0.5)\n",
    "    \n",
    "    return W0, b0, W1, b1, W2, b2\n",
    "\n",
    "# Forward Propagation\n",
    "def forward_prop(X0, W0, b0, W1, b1, W2, b2):\n",
    "\n",
    "    # Layer 0 - Unity\n",
    "    X1 = identity_activation(W0@X0 + b0)\n",
    "    \n",
    "    # Layer 1 - TanH\n",
    "    X2 = tanh_activation(W1@X1 + b1)\n",
    "    \n",
    "    # Layer 2 - Sigmoid\n",
    "    Yhat = sigmoid_activation(W2@X2 + b2)\n",
    "    \n",
    "    return Yhat\n",
    "\n",
    "# Cost function\n",
    "def cost_function(Y, Yhat, m):\n",
    "    return -(1/m)*np.sum(Y*np.log(Yhat) + (1-Y)*np.log(1-Yhat))\n",
    "\n",
    "# Read CSV data from input file\n",
    "train_csv = np.genfromtxt ('iristrain-1.csv', delimiter=\",\")\n",
    "\n",
    "X_train = train_csv[1:,0:4].transpose()\n",
    "Y_train = train_csv[1:,4:5].transpose()\n",
    "\n",
    "# Number of training examples\n",
    "m_train = X_train.shape[1]\n",
    "\n",
    "# Number of features\n",
    "n_train = X_train.shape[0]\n",
    "\n",
    "# Initialize the Weights and Biases\n",
    "W0_train, b0_train, W1_train, b1_train, W2_train, b2_train = initialize_weights_and_biases(n_train)\n",
    "\n",
    "# Forward Propagation through the layers 0, 1 and 2\n",
    "Yhat_train = forward_prop(X_train, W0_train, b0_train, W1_train, b1_train, W2_train, b2_train)\n",
    "\n",
    "# Calculate the Cost Function\n",
    "J_train = cost_function(Y_train, Yhat_train, m_train)\n",
    "\n",
    "print(\"The cost function for the training dataset is: {}\".format(J_train))"
   ]
  },
  {
   "cell_type": "markdown",
   "metadata": {},
   "source": [
    "## Read testing file and get cost function value"
   ]
  },
  {
   "cell_type": "code",
   "execution_count": 2,
   "metadata": {},
   "outputs": [
    {
     "name": "stdout",
     "output_type": "stream",
     "text": [
      "The cost function for the testing dataset is: 1.328862773571919\n"
     ]
    }
   ],
   "source": [
    "\n",
    "# Read CSV data from input file\n",
    "test_csv = np.genfromtxt ('iristest-1.csv', delimiter=\",\")\n",
    "\n",
    "X_test = test_csv[1:,0:4].transpose()\n",
    "Y_test = test_csv[1:,4:5].transpose()\n",
    "\n",
    "# Number of training examples\n",
    "m_test = X_test.shape[1]\n",
    "\n",
    "# Number of features\n",
    "n_test = X_test.shape[0]\n",
    "\n",
    "# Initialize the Weights and Biases\n",
    "W0_test, b0_test, W1_test, b1_test, W2_test, b2_test = initialize_weights_and_biases(n_test)\n",
    "\n",
    "# Forward Propagation through the layers 0, 1 and 2\n",
    "Yhat_test = forward_prop(X_test, W0_test, b0_test, W1_test, b1_test, W2_test, b2_test)\n",
    "\n",
    "# Calculate the Cost Function\n",
    "J_test = cost_function(Y_test, Yhat_test, m_test)\n",
    "\n",
    "print(\"The cost function for the testing dataset is: {}\".format(J_test))\n"
   ]
  },
  {
   "cell_type": "markdown",
   "metadata": {},
   "source": [
    "The results should be printed as follows ---\n",
    "\n",
    "The cost function for the training dataset is: 1.328851528513772\n",
    "\n",
    "The cost function for the testing dataset is:  1.328862773571919"
   ]
  },
  {
   "cell_type": "code",
   "execution_count": null,
   "metadata": {},
   "outputs": [],
   "source": []
  }
 ],
 "metadata": {
  "kernelspec": {
   "display_name": "Python 3",
   "language": "python",
   "name": "python3"
  },
  "language_info": {
   "codemirror_mode": {
    "name": "ipython",
    "version": 3
   },
   "file_extension": ".py",
   "mimetype": "text/x-python",
   "name": "python",
   "nbconvert_exporter": "python",
   "pygments_lexer": "ipython3",
   "version": "3.6.5"
  }
 },
 "nbformat": 4,
 "nbformat_minor": 2
}
