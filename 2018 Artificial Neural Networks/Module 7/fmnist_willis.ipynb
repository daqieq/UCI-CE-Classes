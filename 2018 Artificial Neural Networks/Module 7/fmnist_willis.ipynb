{
 "cells": [
  {
   "cell_type": "markdown",
   "metadata": {},
   "source": [
    "# Fashion MNIST: Modify MNIST 2 Hidden Layer Implementation"
   ]
  },
  {
   "cell_type": "markdown",
   "metadata": {},
   "source": [
    "## Get the Fashion MNIST dataset\n",
    "\n",
    "There are several options for downloading the dataset. Some have the data stored as value of intensity (integer values between 0 and 255) and others have the data stored already preprocessed as float decimals (decimal values between 0 and 1).\n",
    "\n",
    "1) The Kaggle github page has instructions to download the zip file:\n",
    "\n",
    "    https://github.com/Kaggle/kaggle-api\n",
    "\n",
    "2) The Zalando Research github page has instructions to load the dataset, as well as links to other libraries that allow you to download the dataset:\n",
    "\n",
    "    https://github.com/zalandoresearch/fashion-mnist\n",
    "\n",
    "3) The TensorFlow library has an option to download the dataset and use with the Keras framework:\n",
    "\n",
    "    https://www.tensorflow.org/api_docs/python/tf/keras/datasets/fashion_mnist\n",
    "\n",
    "4) There are many other options as well.\n",
    "\n",
    "### My Choice\n",
    "I decided to use the instructions from the Zalando Research github page, because it gives instructions to 'drop in' the Fashion-MNIST dataset where the MNIST dataset would normally have been used.\n",
    "\n",
    "The below code assumes that the 4 .gz files have been downloaded to a folder placed in the same directory as this IPYNB file called \"fashion_mnist_data\".\n",
    "\n",
    "### Note on the code\n",
    "Per the assignment instructions, I have adopted and modified the code from the \"MNIST - MLP BP Network with 2 Hidden Layers\" IPYNB file.\n",
    "For the printing of image, I referenced an example that I had read on a previous occassion on tensorflow.org:\n",
    "\n",
    "    https://www.tensorflow.org/tutorials/keras/basic_classification"
   ]
  },
  {
   "cell_type": "code",
   "execution_count": 1,
   "metadata": {},
   "outputs": [
    {
     "name": "stderr",
     "output_type": "stream",
     "text": [
      "C:\\Users\\camer\\Anaconda3\\lib\\site-packages\\h5py\\__init__.py:36: FutureWarning: Conversion of the second argument of issubdtype from `float` to `np.floating` is deprecated. In future, it will be treated as `np.float64 == np.dtype(float).type`.\n",
      "  from ._conv import register_converters as _register_converters\n"
     ]
    },
    {
     "name": "stdout",
     "output_type": "stream",
     "text": [
      "WARNING:tensorflow:From <ipython-input-1-b85ac8ebdc44>:6: read_data_sets (from tensorflow.contrib.learn.python.learn.datasets.mnist) is deprecated and will be removed in a future version.\n",
      "Instructions for updating:\n",
      "Please use alternatives such as official/mnist/dataset.py from tensorflow/models.\n",
      "WARNING:tensorflow:From C:\\Users\\camer\\Anaconda3\\lib\\site-packages\\tensorflow\\contrib\\learn\\python\\learn\\datasets\\mnist.py:260: maybe_download (from tensorflow.contrib.learn.python.learn.datasets.base) is deprecated and will be removed in a future version.\n",
      "Instructions for updating:\n",
      "Please write your own downloading logic.\n",
      "WARNING:tensorflow:From C:\\Users\\camer\\Anaconda3\\lib\\site-packages\\tensorflow\\contrib\\learn\\python\\learn\\datasets\\mnist.py:262: extract_images (from tensorflow.contrib.learn.python.learn.datasets.mnist) is deprecated and will be removed in a future version.\n",
      "Instructions for updating:\n",
      "Please use tf.data to implement this functionality.\n",
      "Extracting fashion_mnist_data/train-images-idx3-ubyte.gz\n",
      "WARNING:tensorflow:From C:\\Users\\camer\\Anaconda3\\lib\\site-packages\\tensorflow\\contrib\\learn\\python\\learn\\datasets\\mnist.py:267: extract_labels (from tensorflow.contrib.learn.python.learn.datasets.mnist) is deprecated and will be removed in a future version.\n",
      "Instructions for updating:\n",
      "Please use tf.data to implement this functionality.\n",
      "Extracting fashion_mnist_data/train-labels-idx1-ubyte.gz\n",
      "WARNING:tensorflow:From C:\\Users\\camer\\Anaconda3\\lib\\site-packages\\tensorflow\\contrib\\learn\\python\\learn\\datasets\\mnist.py:110: dense_to_one_hot (from tensorflow.contrib.learn.python.learn.datasets.mnist) is deprecated and will be removed in a future version.\n",
      "Instructions for updating:\n",
      "Please use tf.one_hot on tensors.\n",
      "Extracting fashion_mnist_data/t10k-images-idx3-ubyte.gz\n",
      "Extracting fashion_mnist_data/t10k-labels-idx1-ubyte.gz\n",
      "WARNING:tensorflow:From C:\\Users\\camer\\Anaconda3\\lib\\site-packages\\tensorflow\\contrib\\learn\\python\\learn\\datasets\\mnist.py:290: DataSet.__init__ (from tensorflow.contrib.learn.python.learn.datasets.mnist) is deprecated and will be removed in a future version.\n",
      "Instructions for updating:\n",
      "Please use alternatives such as official/mnist/dataset.py from tensorflow/models.\n"
     ]
    }
   ],
   "source": [
    "import tensorflow as tf\n",
    "import numpy as np\n",
    "import matplotlib.pyplot as plt\n",
    "\n",
    "from tensorflow.examples.tutorials.mnist import input_data\n",
    "fashionmnist = input_data.read_data_sets(\"fashion_mnist_data/\", one_hot=True)"
   ]
  },
  {
   "cell_type": "markdown",
   "metadata": {},
   "source": [
    "## Set the model, network and graph parameters"
   ]
  },
  {
   "cell_type": "code",
   "execution_count": 2,
   "metadata": {},
   "outputs": [],
   "source": [
    "# Increasing the cycles didn't bring more accuracy in the few testing runs that I performed\n",
    "\n",
    "rate = 0.001\n",
    "cycles = 20\n",
    "batchsize = 50\n",
    "\n",
    "# Increased the parameters for the first and second layers, but I didn't see more accuracy using these increase parameters\n",
    "\n",
    "neuronslayer1 = 512   ## originally 256\n",
    "neuronslayer2 = 512   ## originally 256\n",
    "neuronslayer3 = 256\n",
    "numexpl = fashionmnist.train.num_examples\n",
    "\n",
    "# The diminsions of the image data and labels stayed the same\n",
    "\n",
    "x = tf.placeholder(\"float\", [None, 784])\n",
    "y = tf.placeholder(\"float\", [None, 10])"
   ]
  },
  {
   "cell_type": "markdown",
   "metadata": {},
   "source": [
    "## Define the model Weight and Bias parameters"
   ]
  },
  {
   "cell_type": "code",
   "execution_count": 3,
   "metadata": {},
   "outputs": [],
   "source": [
    "w = {\n",
    "    'layer1': tf.Variable(tf.random_normal([784, neuronslayer1])),\n",
    "    'layer2': tf.Variable(tf.random_normal([neuronslayer1, neuronslayer2])),\n",
    "    'layer3': tf.Variable(tf.random_normal([neuronslayer2, neuronslayer3])),\n",
    "    'layerop': tf.Variable(tf.random_normal([neuronslayer3, 10]))\n",
    "}\n",
    "\n",
    "b = {\n",
    "    'layer1': tf.Variable(tf.random_normal([neuronslayer1])),\n",
    "    'layer2': tf.Variable(tf.random_normal([neuronslayer2])),\n",
    "    'layer3': tf.Variable(tf.random_normal([neuronslayer3])),\n",
    "    'layerop': tf.Variable(tf.random_normal([10]))\n",
    "}"
   ]
  },
  {
   "cell_type": "markdown",
   "metadata": {},
   "source": [
    "## Model Implementation"
   ]
  },
  {
   "cell_type": "code",
   "execution_count": 4,
   "metadata": {},
   "outputs": [],
   "source": [
    "def mlp_bp(x, w, b):\n",
    "    oplayer1 = tf.nn.relu(tf.add(tf.matmul(x, w['layer1']), b['layer1']))\n",
    "    oplayer2 = tf.nn.relu(tf.add(tf.matmul(oplayer1, w['layer2']), b['layer2']))\n",
    "    oplayer3 = tf.nn.relu(tf.add(tf.matmul(oplayer2, w['layer3']), b['layer3']))\n",
    "    output  = tf.matmul(oplayer3, w['layerop']) + b['layerop']\n",
    "    return output\n",
    "\n",
    "predictions = mlp_bp(x, w, b)"
   ]
  },
  {
   "cell_type": "markdown",
   "metadata": {},
   "source": [
    "## Cost and Optimization Functions"
   ]
  },
  {
   "cell_type": "code",
   "execution_count": 5,
   "metadata": {},
   "outputs": [
    {
     "name": "stdout",
     "output_type": "stream",
     "text": [
      "WARNING:tensorflow:From <ipython-input-5-a99ddb62a168>:1: softmax_cross_entropy_with_logits (from tensorflow.python.ops.nn_ops) is deprecated and will be removed in a future version.\n",
      "Instructions for updating:\n",
      "\n",
      "Future major versions of TensorFlow will allow gradients to flow\n",
      "into the labels input on backprop by default.\n",
      "\n",
      "See @{tf.nn.softmax_cross_entropy_with_logits_v2}.\n",
      "\n"
     ]
    }
   ],
   "source": [
    "cost = tf.reduce_mean(tf.nn.softmax_cross_entropy_with_logits(logits=predictions, labels=y))\n",
    "optimizer = tf.train.AdamOptimizer(learning_rate = rate).minimize(cost)"
   ]
  },
  {
   "cell_type": "markdown",
   "metadata": {},
   "source": [
    "## TensorFlow Session\n",
    "\n",
    "### Can it run faster?\n",
    "Yes, but only a little bit. I added 'config.gpu_options' and it did hand off some of the computations [e.g. numpy.matmul()]. I did not record actual run times, but while watching Windows Task Manager I can see the % used of the CPU and GPU. If the MLP model were to become more computationally intensive, the GPU device would be utilized more to parallelize the computations."
   ]
  },
  {
   "cell_type": "code",
   "execution_count": 6,
   "metadata": {
    "scrolled": false
   },
   "outputs": [
    {
     "name": "stdout",
     "output_type": "stream",
     "text": [
      "Running Cycle: 0. Completed. Cost: 2178.9910251825504\n",
      "Running Cycle: 1. Completed. Cost: 770.4214537325772\n",
      "Running Cycle: 2. Completed. Cost: 502.05017571221697\n",
      "Running Cycle: 3. Completed. Cost: 382.5124764260379\n",
      "Running Cycle: 4. Completed. Cost: 287.84329257791694\n",
      "Running Cycle: 5. Completed. Cost: 230.71860830783845\n",
      "Running Cycle: 6. Completed. Cost: 183.97202145511454\n",
      "Running Cycle: 7. Completed. Cost: 146.84810638080944\n",
      "Running Cycle: 8. Completed. Cost: 121.64554979562759\n",
      "Running Cycle: 9. Completed. Cost: 105.4788029774503\n",
      "Running Cycle: 10. Completed. Cost: 89.69163349666378\n",
      "Running Cycle: 11. Completed. Cost: 79.30421536245129\n",
      "Running Cycle: 12. Completed. Cost: 68.41448300077157\n",
      "Running Cycle: 13. Completed. Cost: 59.98313681492751\n",
      "Running Cycle: 14. Completed. Cost: 53.75692299192466\n",
      "Running Cycle: 15. Completed. Cost: 47.44915344658223\n",
      "Running Cycle: 16. Completed. Cost: 45.6661664028906\n",
      "Running Cycle: 17. Completed. Cost: 41.85220417051673\n",
      "Running Cycle: 18. Completed. Cost: 35.261388278907525\n",
      "Running Cycle: 19. Completed. Cost: 35.55649126325917\n"
     ]
    }
   ],
   "source": [
    "initialcondition = tf.global_variables_initializer()\n",
    "\n",
    "## If using GPUs\n",
    "#config = tf.ConfigProto()\n",
    "#config.gpu_options.allow_growth = True\n",
    "#session = tf.InteractiveSession(config=config)\n",
    "\n",
    "## If not using GPUs\n",
    "session = tf.InteractiveSession()\n",
    "\n",
    "session.run(initialcondition)\n",
    "numbatches = int(numexpl/batchsize)\n",
    "avgcost = [0.0] * cycles\n",
    "for cycle in range(cycles):\n",
    "    cyclecost = 0.0\n",
    "    print(\"Running Cycle:\", cycle, end = \"\") \n",
    "    for i in range(numbatches):\n",
    "        xbatch, ybatch = fashionmnist.train.next_batch(batchsize)\n",
    "        _, batchcost = session.run([optimizer, cost], feed_dict={x: xbatch, y: ybatch})\n",
    "        cyclecost += batchcost \n",
    "    avgcost[cycle] = cyclecost / numbatches\n",
    "    print(\". Completed. Cost:\", avgcost[cycle])"
   ]
  },
  {
   "cell_type": "markdown",
   "metadata": {},
   "source": [
    "## Plot the cost over the cycles"
   ]
  },
  {
   "cell_type": "code",
   "execution_count": 7,
   "metadata": {},
   "outputs": [
    {
     "data": {
      "text/plain": [
       "[<matplotlib.lines.Line2D at 0x2ab00475dd8>]"
      ]
     },
     "execution_count": 7,
     "metadata": {},
     "output_type": "execute_result"
    },
    {
     "data": {
      "image/png": "[encoded data removed]",
      "text/plain": [
       "<Figure size 432x288 with 1 Axes>"
      ]
     },
     "metadata": {},
     "output_type": "display_data"
    }
   ],
   "source": [
    "plt.axis([0,cycles,0,max(avgcost)*1.1])\n",
    "plt.xlabel('cycles')\n",
    "plt.ylabel('cost')\n",
    "plt.grid()\n",
    "plt.plot(avgcost, color='red', linestyle='solid', marker='o', markerfacecolor='blue', markersize=2)"
   ]
  },
  {
   "cell_type": "markdown",
   "metadata": {},
   "source": [
    "## Evaluate the performance of the model"
   ]
  },
  {
   "cell_type": "code",
   "execution_count": 9,
   "metadata": {},
   "outputs": [
    {
     "name": "stdout",
     "output_type": "stream",
     "text": [
      "Percent Accuracy: 84.89%\n"
     ]
    }
   ],
   "source": [
    "percentaccuracy = 100 * tf.reduce_mean(\n",
    "                            tf.cast(tf.equal(tf.argmax(predictions, 1), \n",
    "                            tf.argmax(y, 1)), \"float\")).eval(\n",
    "                            {x: fashionmnist.test.images, y: fashionmnist.test.labels})\n",
    "\n",
    "print(\"Percent Accuracy: {:.2f}%\".format(percentaccuracy))"
   ]
  },
  {
   "cell_type": "code",
   "execution_count": 10,
   "metadata": {},
   "outputs": [],
   "source": [
    "# Close the session after training and checking the accuracy with the testing data\n",
    "session.close()"
   ]
  },
  {
   "cell_type": "markdown",
   "metadata": {},
   "source": [
    "### Best result acheived in testing\n",
    "\n",
    "I ran the data through several times, and recorded the best result from testing:\n",
    "\n",
    "#### All layers use Relu - Selected version for this IPYNB\n",
    "\n",
    "    Percent Accuracy: 84.89%\n",
    "\n",
    "#### First layer Softmax, Second and third layers Relu\n",
    "\n",
    "    Percent Accuracy: 69.15%\n",
    "\n",
    "#### Other activation functions to try in the future\n",
    "\n",
    "    https://www.tensorflow.org/api_docs/python/tf/nn\n",
    "    \n",
    "#### Other things to test\n",
    "\n",
    "    1) Add more dense layers\n",
    "    2) Add some convulutional layers (CNN)"
   ]
  },
  {
   "cell_type": "markdown",
   "metadata": {},
   "source": [
    "## Print a random entry from the Training set\n",
    "\n",
    "Per assignment instructions, the code below selects a random entry and prints the image by ploting the 'intensities' of data."
   ]
  },
  {
   "cell_type": "code",
   "execution_count": 11,
   "metadata": {},
   "outputs": [
    {
     "data": {
      "text/plain": [
       "Text(0.5,0.98,'T-shirt/top')"
      ]
     },
     "execution_count": 11,
     "metadata": {},
     "output_type": "execute_result"
    },
    {
     "data": {
      "image/png": "[encoded data removed]",
      "text/plain": [
       "<Figure size 432x288 with 2 Axes>"
      ]
     },
     "metadata": {},
     "output_type": "display_data"
    }
   ],
   "source": [
    "# Get a new batch of the training data\n",
    "xbatch, ybatch = fashionmnist.train.next_batch(batchsize)\n",
    "\n",
    "# Set the Label classes for printing a Label on the image\n",
    "class_names = ['T-shirt/top', 'Trouser', 'Pullover', 'Dress', 'Coat', \n",
    "               'Sandal', 'Shirt', 'Sneaker', 'Bag', 'Ankle boot']\n",
    "\n",
    "# Get the random integer to pull the random training image and label\n",
    "random_int = np.random.randint(0,batchsize)\n",
    "random_train_image = np.floor(xbatch[random_int]*255).reshape((28, 28))\n",
    "random_train_label = class_names[np.argmax(ybatch[random_int])]\n",
    "\n",
    "# Plot the reshaped image array with the label\n",
    "plt.figure()\n",
    "plt.imshow(random_train_image)\n",
    "plt.colorbar()\n",
    "plt.grid(False)\n",
    "plt.suptitle(random_train_label)"
   ]
  },
  {
   "cell_type": "code",
   "execution_count": null,
   "metadata": {},
   "outputs": [],
   "source": []
  }
 ],
 "metadata": {
  "kernelspec": {
   "display_name": "Python 3",
   "language": "python",
   "name": "python3"
  },
  "language_info": {
   "codemirror_mode": {
    "name": "ipython",
    "version": 3
   },
   "file_extension": ".py",
   "mimetype": "text/x-python",
   "name": "python",
   "nbconvert_exporter": "python",
   "pygments_lexer": "ipython3",
   "version": "3.7.6"
  }
 },
 "nbformat": 4,
 "nbformat_minor": 2
}
